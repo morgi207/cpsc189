{
 "metadata": {
  "name": "",
  "signature": "sha256:89dcd8a631a2692828ce6fb13e9215037b11e4bc315b34b5d0eae493a62cdeef"
 },
 "nbformat": 3,
 "nbformat_minor": 0,
 "worksheets": [
  {
   "cells": [
    {
     "cell_type": "code",
     "collapsed": false,
     "input": [
      "# File: os-path-walk-example-2.py\n",
      "\n",
      "import os\n",
      "#os module contains functions that deal with long file names\n",
      "def index(directory):\n",
      "    # like os.listdir, but traverses directory trees\n",
      "    stack = [directory]\n",
      "    #list contains the directory which is the input to the function\n",
      "    files = []\n",
      "    #this creates an empty list\n",
      "    sizesoffiles= []\n",
      "   \n",
      "    while stack:\n",
      "        #while stack is empty\n",
      "        directory = stack.pop()\n",
      "        #.pop removes and returns the last item in the list\n",
      "        \n",
      "        for file in os.listdir(directory):\n",
      "           #this loops through and prints out the name of the subfiles and directories\n",
      "            #os.listdir returns a list containing the names of the entries in \"directory\", by path\n",
      "            fullname = os.path.join(directory, file)\n",
      "            #os.path.join joins one of more path components, assigns to fullname\n",
      "            files.append(fullname)\n",
      "            #.append adds an item to the end of \"fullname\"\n",
      "            sizesoffiles=os.path.getsize(fullname)\n",
      "            \n",
      "            if os.path.isdir(fullname) and not os.path.islink(fullname):\n",
      "                stack.append(fullname)\n",
      "                \n",
      "                files.append(sizesoffiles)\n",
      "   \n",
      "             #os.path.isdir returns true if \"fullname is in an existing directory, islink true if \"fullname\"refers to a \n",
      "            #directory entry that is in symbolic list\n",
      "            \n",
      "        return files,sizesoffiles\n",
      "  \n",
      "        files,sizesoffiles=index('.')        \n",
      "\n",
      "for file in index(\".\"):\n",
      "    #index returns a list of filenames\n",
      "    print file\n",
      "    \n",
      "    \n",
      "\n",
      "## .\\aifc-example-1.py\n",
      "## .\\anydbm-example-1.py\n",
      "## .\\array-example-1.py\n",
      "## ..."
     ],
     "language": "python",
     "metadata": {},
     "outputs": [
      {
       "output_type": "stream",
       "stream": "stdout",
       "text": [
        "['.\\\\.git', 4096L, '.\\\\.gitignore', '.\\\\.ipynb_checkpoints', 0L, '.\\\\Assign1.ipynb', '.\\\\LICENSE', '.\\\\notebooks', 0L, '.\\\\README.md']\n",
        "18\n"
       ]
      }
     ],
     "prompt_number": 15
    },
    {
     "cell_type": "code",
     "collapsed": false,
     "input": [],
     "language": "python",
     "metadata": {},
     "outputs": [],
     "prompt_number": 15
    },
    {
     "cell_type": "code",
     "collapsed": false,
     "input": [],
     "language": "python",
     "metadata": {},
     "outputs": []
    }
   ],
   "metadata": {}
  }
 ]
}